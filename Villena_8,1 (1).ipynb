{
  "nbformat": 4,
  "nbformat_minor": 0,
  "metadata": {
    "colab": {
      "provenance": []
    },
    "kernelspec": {
      "name": "python3",
      "display_name": "Python 3"
    },
    "language_info": {
      "name": "python"
    }
  },
  "cells": [
    {
      "cell_type": "code",
      "execution_count": 1,
      "metadata": {
        "id": "xbpyDNo143zM"
      },
      "outputs": [],
      "source": [
        "import sqlite3\n",
        "conn = sqlite3.connect('banking.db')\n",
        "cursor = conn.cursor()\n",
        "cursor.execute(\"DROP TABLE IF EXISTS STUDENT\")\n",
        "query = \"\"\"CREATE TABLE user(\n",
        " customer_name char(50) NOT NULL,\n",
        " account_number char(50),\n",
        " address char(50),\n",
        " phone char(20) )\"\"\"\n",
        "cursor.execute(query)\n",
        "conn.commit()\n",
        "conn.close()\n"
      ]
    },
    {
      "cell_type": "code",
      "source": [
        " \"\"\"\n",
        "CREATE TABLE table_name (\n",
        " column name datatype properity,\n",
        " ...\n",
        " ...\n",
        ");\n",
        "\"\"\""
      ],
      "metadata": {
        "colab": {
          "base_uri": "https://localhost:8080/",
          "height": 35
        },
        "id": "5h0SXEVnC4tq",
        "outputId": "476463de-78c5-4aa2-d3f7-a72f265b18e5"
      },
      "execution_count": 2,
      "outputs": [
        {
          "output_type": "execute_result",
          "data": {
            "text/plain": [
              "'\\nCREATE TABLE table_name (\\ncolumn name datatype properity,\\n...\\n...\\n);\\n'"
            ],
            "application/vnd.google.colaboratory.intrinsic+json": {
              "type": "string"
            }
          },
          "metadata": {},
          "execution_count": 2
        }
      ]
    },
    {
      "cell_type": "code",
      "source": [
        "import sqlite3\n",
        "conn = sqlite3.connect('banking.db')\n",
        "conn.execute(\"INSERT INTO user (customer_name, account_number, address, phone) \"\n",
        " \"VALUES ('Ivan Villena', '123-456', 'Pasig', '12345678')\")\n",
        "conn.execute(\"INSERT INTO user (customer_name, account_number, address, phone) \"\n",
        " \"VALUES ('Tere Villena', '345-678', 'Cavite', '34567890')\")\n",
        "conn.execute(\"INSERT INTO user (customer_name, account_number, address, phone) \"\n",
        " \"VALUES ('Robert Chippy', '789-123', 'Manila', '89012345')\")\n",
        "conn.execute(\"INSERT INTO user (customer_name, account_number, address, phone) \"\n",
        " \"VALUES ('Anna Snacku', '678-901', 'Quezon City', '23457890')\")\n",
        "conn.execute(\"INSERT INTO user (customer_name, account_number, address, phone) \"\n",
        " \"VALUES ('Michael Pringles', '567-321', 'Taguig', '21784532')\")\n",
        "conn.commit()\n",
        "conn.close()\n"
      ],
      "metadata": {
        "id": "wgQ7QOuXDUaz"
      },
      "execution_count": 4,
      "outputs": []
    },
    {
      "cell_type": "code",
      "source": [
        "import sqlite3\n",
        "conn = sqlite3.connect('banking.db')\n",
        "cursor = conn.execute(\"SELECT * from user\")\n",
        "for row in cursor: #Used this instead of fetchall\n",
        "    print(row)\n",
        "\n",
        "conn.close()\n",
        "\n",
        "#Modified the code to print the result in column"
      ],
      "metadata": {
        "colab": {
          "base_uri": "https://localhost:8080/",
          "height": 0
        },
        "id": "bmRKdsw7FGkM",
        "outputId": "42bd3820-fd8f-40f8-b6ef-4a4b7c92e4e4"
      },
      "execution_count": 16,
      "outputs": [
        {
          "output_type": "stream",
          "name": "stdout",
          "text": [
            "('Ivan Villena', '123-456', 'Pasig', '12345678')\n",
            "('Tere Villena', '345-678', 'Cavite', '34567890')\n",
            "('Robert Chippy', '789-123', 'Manila', '89012345')\n",
            "('Anna Snacku', '678-901', 'Quezon City', '23457890')\n",
            "('Michael Pringles', '567-321', 'Taguig', '21784532')\n"
          ]
        }
      ]
    },
    {
      "cell_type": "code",
      "source": [],
      "metadata": {
        "colab": {
          "base_uri": "https://localhost:8080/",
          "height": 106
        },
        "id": "CZocHZcuFNg0",
        "outputId": "0546adb1-a8c2-4286-a0da-f53f36bf3f1c"
      },
      "execution_count": 17,
      "outputs": [
        {
          "output_type": "error",
          "ename": "SyntaxError",
          "evalue": "invalid syntax (<ipython-input-17-e0eb30216c50>, line 3)",
          "traceback": [
            "\u001b[0;36m  File \u001b[0;32m\"<ipython-input-17-e0eb30216c50>\"\u001b[0;36m, line \u001b[0;32m3\u001b[0m\n\u001b[0;31m    SELECT customer_name, account_number, address, phone FROM user;\u001b[0m\n\u001b[0m           ^\u001b[0m\n\u001b[0;31mSyntaxError\u001b[0m\u001b[0;31m:\u001b[0m invalid syntax\n"
          ]
        }
      ]
    },
    {
      "cell_type": "code",
      "source": [
        "import sqlite3\n",
        "conn = sqlite3.connect('banking.db')\n",
        "cursor = conn.cursor()\n",
        "cursor.execute(\"DROP TABLE IF EXISTS account\")\n",
        "query = \"\"\"CREATE TABLE account(\n",
        " accNo char(50) NOT NULL,\n",
        " custName char(50),\n",
        " balance float )\"\"\"\n",
        "cursor.execute(query)\n",
        "conn.commit()\n",
        "conn.close()"
      ],
      "metadata": {
        "id": "FHjdbdhiF6or"
      },
      "execution_count": 20,
      "outputs": []
    },
    {
      "cell_type": "code",
      "source": [
        "import sqlite3\n",
        "conn = sqlite3.connect('banking.db')\n",
        "conn.execute(\"INSERT INTO account (accNo, custName, balance) \"\n",
        " \"VALUES ('123-456','Ivan Villena', '2000.00')\")\n",
        "conn.execute(\"INSERT INTO account (accNo, custName, balance) \"\n",
        " \"VALUES ('345-678','Tere Villena', '3000.00')\")\n",
        "conn.execute(\"INSERT INTO account (accNo, custName, balance) \"\n",
        " \"VALUES ('789-123','Robert Chippy', '5000.00')\")\n",
        "conn.execute(\"INSERT INTO account (accNo, custName, balance) \"\n",
        " \"VALUES ('678-901','Anna Snacku', '6000.00')\")\n",
        "conn.execute(\"INSERT INTO account (accNo, custName, balance) \"\n",
        " \"VALUES ('567-321','Michael Pringles', '10000.00')\")\n",
        "conn.commit()\n",
        "conn.close()\n"
      ],
      "metadata": {
        "id": "oM9DlRB7HUbA"
      },
      "execution_count": 22,
      "outputs": []
    },
    {
      "cell_type": "code",
      "source": [
        "import sqlite3\n",
        "conn = sqlite3.connect('banking.db')\n",
        "cursor = conn.execute(\"SELECT * from account\")\n",
        "for row in cursor: #Used this instead of fetchall\n",
        "    print(row)\n",
        "\n",
        "conn.close()"
      ],
      "metadata": {
        "colab": {
          "base_uri": "https://localhost:8080/",
          "height": 0
        },
        "id": "-tMAGyurIsn3",
        "outputId": "69daa1bf-2f2c-4c1a-9169-0d7986f72916"
      },
      "execution_count": 23,
      "outputs": [
        {
          "output_type": "stream",
          "name": "stdout",
          "text": [
            "('123-456', 'Ivan Villena', 2000.0)\n",
            "('345-678', 'Tere Villena', 3000.0)\n",
            "('789-123', 'Robert Chippy', 5000.0)\n",
            "('678-901', 'Anna Snacku', 6000.0)\n",
            "('567-321', 'Michael Pringles', 10000.0)\n"
          ]
        }
      ]
    },
    {
      "cell_type": "code",
      "source": [
        "import sqlite3\n",
        "conn = sqlite3.connect('banking.db')\n",
        "cursor = conn.cursor()\n",
        "cursor.execute(\"DROP TABLE IF EXISTS bank\")\n",
        "query = \"\"\"CREATE TABLE bank(\n",
        " custDetails char(50) NOT NULL,\n",
        " loanDetails char(50),\n",
        " txNo int,\n",
        " txDate date,\n",
        " txTime time)\"\"\"\n",
        "cursor.execute(query)\n",
        "conn.commit()\n",
        "conn.close()"
      ],
      "metadata": {
        "id": "dwiC00f0Itub"
      },
      "execution_count": 29,
      "outputs": []
    },
    {
      "cell_type": "code",
      "source": [
        "import sqlite3\n",
        "conn = sqlite3.connect('banking.db')\n",
        "conn.execute(\"INSERT INTO bank (custDetails, loanDetails, txNo, txDate, txTime) \"\n",
        " \"VALUES ('Savings','Salary Loan', 1, '2024-11-01', '04:30:00')\")\n",
        "conn.execute(\"INSERT INTO bank (custDetails, loanDetails, txNo, txDate, txTime) \"\n",
        " \"VALUES ('Savings','Salary Loan', 2, '2024-11-02', '05:30:00')\")\n",
        "conn.execute(\"INSERT INTO bank (custDetails, loanDetails, txNo, txDate, txTime) \"\n",
        " \"VALUES ('Savings','Salary Loan', 3, '2024-11-03', '10:45:00')\")\n",
        "conn.execute(\"INSERT INTO bank (custDetails, loanDetails, txNo, txDate, txTime) \"\n",
        " \"VALUES ('Savings','Salary Loan', 4, '2024-11-10', '05:10:00')\")\n",
        "conn.execute(\"INSERT INTO bank (custDetails, loanDetails, txNo, txDate, txTime) \"\n",
        " \"VALUES ('Savings','Salary Loan', 5, '2024-11-15', '12:45:00')\")\n",
        "conn.commit()\n",
        "conn.close()"
      ],
      "metadata": {
        "id": "T1EjkANzJR0H"
      },
      "execution_count": 30,
      "outputs": []
    },
    {
      "cell_type": "code",
      "source": [
        "import sqlite3\n",
        "conn = sqlite3.connect('banking.db')\n",
        "cursor = conn.execute(\"SELECT * from bank\")\n",
        "for row in cursor: #Used this instead of fetchall\n",
        "    print(row)\n",
        "\n",
        "conn.close()"
      ],
      "metadata": {
        "colab": {
          "base_uri": "https://localhost:8080/",
          "height": 0
        },
        "id": "Ag34Y6_fKgYL",
        "outputId": "3f54b372-2b3e-46e9-e030-5b450f148c76"
      },
      "execution_count": 31,
      "outputs": [
        {
          "output_type": "stream",
          "name": "stdout",
          "text": [
            "('Savings', 'Salary Loan', 1, '2024-11-01', '04:30:00')\n",
            "('Savings', 'Salary Loan', 2, '2024-11-02', '05:30:00')\n",
            "('Savings', 'Salary Loan', 3, '2024-11-03', '10:45:00')\n",
            "('Savings', 'Salary Loan', 4, '2024-11-10', '05:10:00')\n",
            "('Savings', 'Salary Loan', 5, '2024-11-15', '12:45:00')\n"
          ]
        }
      ]
    },
    {
      "cell_type": "code",
      "source": [
        "import sqlite3\n",
        "\n",
        "class database:\n",
        "    def __init__(self, db_name):\n",
        "        self.db_name = db_name\n",
        "        self.conn = sqlite3.connect(db_name)\n",
        "        self.cursor = self.conn.cursor()\n",
        "\n",
        "    def execute_query(self, query, params=()):\n",
        "        self.cursor.execute(query, params)\n",
        "        self.conn.commit()\n",
        "\n",
        "    def fetch_one(self, query, params=()):\n",
        "        self.cursor.execute(query, params)\n",
        "        return self.cursor.fetchone()\n",
        "\n",
        "    def fetch_all(self, query, params=()):\n",
        "        self.cursor.execute(query, params)\n",
        "        return self.cursor.fetchall()\n",
        "\n",
        "    def close(self):\n",
        "        self.conn.close()\n",
        "\n",
        "class client:\n",
        "    def __init__(self, customer_name, account_number, address, phone, balance=0.0):\n",
        "        self.customer_name = customer_name\n",
        "        self.account_number = account_number\n",
        "        self.address = address\n",
        "        self.phone = phone\n",
        "        self.balance = balance\n",
        "\n",
        "class account:\n",
        "    def __init__(self, db, user):\n",
        "        self.db = db\n",
        "        self.user = user\n",
        "        self.create_account()\n",
        "\n",
        "    def create_account(self):\n",
        "            query = \"\"\"insert into user (customer_name, account_number, address, phone)\n",
        "                      values (?, ?, ?, ?)\"\"\"\n",
        "            self.db.execute_query(query, (self.user.customer_name, self.user.account_number, self.user.address, self.user.phone))\n",
        "            query = \"\"\"insert into account (accNo, custName, balance)\n",
        "                      values (?, ?, ?)\"\"\"\n",
        "            self.db.execute_query(query, (self.user.account_number, self.user.customer_name, self.user.balance))\n",
        "\n",
        "    def update_balance(self, new_balance):\n",
        "            query = \"\"\"update account set balance = ? WHERE accNo = ?\"\"\"\n",
        "            self.db.execute_query(query, (new_balance, self.user.account_number))\n",
        "\n",
        "    def deposit(self, amount):\n",
        "        if amount > 0:\n",
        "            self.user.balance += amount\n",
        "            self.update_balance(self.user.balance)\n",
        "            print(f\"Deposited {amount}. New balance: {self.user.balance}\")\n",
        "        else:\n",
        "            print(\"Deposit amount must be greater than zero.\")\n",
        "\n",
        "    def withdraw(self, amount):\n",
        "        if amount > 0 and self.user.balance >= amount:\n",
        "            self.user.balance -= amount\n",
        "            self.update_balance(self.user.balance)\n",
        "            print(f\"Withdrew {amount}. New balance: {self.user.balance}\")\n",
        "        else:\n",
        "            print(\"Insufficient funds or invalid amount.\")\n",
        "\n",
        "    def get_balance(self):\n",
        "        return self.user.balance\n",
        "\n",
        "class loan:\n",
        "    def __init__(self, db, account):\n",
        "        self.db = db\n",
        "        self.account = account\n",
        "\n",
        "    def loan_approval(self, loan_amount):\n",
        "        if loan_amount > 0:\n",
        "            self.account.deposit(loan_amount)\n",
        "            print(f\"Loan approved. {loan_amount} added to account balance. New balance: {self.account.get_balance()}\")\n",
        "        else:\n",
        "            print(\"Loan amount must be greater than zero.\")\n",
        "\n",
        "    def collect_payment(self, amount):\n",
        "        if amount > 0 and self.account.get_balance() >= amount:\n",
        "            self.account.withdraw(amount)\n",
        "            print(f\"Loan repaid. {amount} deducted from account. New balance: {self.account.get_balance()}\")\n",
        "        else:\n",
        "            print(\"Insufficient funds or invalid repayment amount.\")\n",
        "\n",
        "class system:\n",
        "    def __init__(self, db_name):\n",
        "        self.db = database(db_name)\n",
        "        self.setup_database()\n",
        "\n",
        "    def setup_database(self):\n",
        "        self.db.execute_query(\"DROP TABLE IF EXISTS user\")\n",
        "        self.db.execute_query(\"\"\"CREATE TABLE user (\n",
        "                                customer_name char(50) NOT NULL,\n",
        "                                account_number char(50) PRIMARY KEY,\n",
        "                                address char(50),\n",
        "                                phone char(20))\"\"\")\n",
        "\n",
        "        self.db.execute_query(\"DROP TABLE IF EXISTS account\")\n",
        "        self.db.execute_query(\"\"\"CREATE TABLE account (\n",
        "                                accNo char(50) NOT NULL,\n",
        "                                custName char(50),\n",
        "                                balance float,\n",
        "                                FOREIGN KEY (accNo) REFERENCES user(account_number))\"\"\")\n",
        "\n",
        "    def new_account(self, customer_name, account_number, address, phone, balance=0.0):\n",
        "        customer = client(customer_name, account_number, address, phone, balance)\n",
        "        return account(self.db, customer)\n",
        "\n",
        "    def close(self):\n",
        "        self.db.close()"
      ],
      "metadata": {
        "id": "A97g8BsSLQ5e"
      },
      "execution_count": 66,
      "outputs": []
    },
    {
      "cell_type": "code",
      "source": [
        "bank_db = system('banking.db')"
      ],
      "metadata": {
        "id": "uEPKNtGJPsmH"
      },
      "execution_count": 68,
      "outputs": []
    },
    {
      "cell_type": "code",
      "source": [
        "#Retreive the details of the loan applicant\n",
        "loan_app1 = bank_db.new_account('Ivan Villena', '123-456', 'Pasig', '12345678', 2000.00)"
      ],
      "metadata": {
        "id": "RfmQbUPbQuX7"
      },
      "execution_count": 69,
      "outputs": []
    },
    {
      "cell_type": "code",
      "source": [
        "#Disbursing the approved loan amount to the applicant, and update his account balance\n",
        "loan_disbursement1 = loan(bank_db, loan_app1)\n",
        "loan_disbursement1.loan_approval(5000)"
      ],
      "metadata": {
        "colab": {
          "base_uri": "https://localhost:8080/",
          "height": 0
        },
        "id": "RE8b3DbWRN1k",
        "outputId": "82c47cdc-db3a-4b2b-8154-2187186ee0a0"
      },
      "execution_count": 70,
      "outputs": [
        {
          "output_type": "stream",
          "name": "stdout",
          "text": [
            "Deposited 5000. New balance: 7000.0\n",
            "Loan approved. 5000 added to account balance. New balance: 7000.0\n"
          ]
        }
      ]
    },
    {
      "cell_type": "code",
      "source": [
        "#Collects the amortization from the applicant and updates his account balance\n",
        "loan_disbursement1.collect_payment(1000)"
      ],
      "metadata": {
        "colab": {
          "base_uri": "https://localhost:8080/",
          "height": 0
        },
        "id": "Eshu5xyhUf1T",
        "outputId": "e6d47064-71e4-4f3c-86ec-2ceeaa74317d"
      },
      "execution_count": 72,
      "outputs": [
        {
          "output_type": "stream",
          "name": "stdout",
          "text": [
            "Withdrew 1000. New balance: 6000.0\n",
            "Loan repaid. 1000 deducted from account. New balance: 6000.0\n"
          ]
        }
      ]
    },
    {
      "cell_type": "code",
      "source": [
        "import sqlite3\n",
        "conn = sqlite3.connect('banking.db')\n",
        "cursor = conn.execute(\"SELECT * from account where accNo = '123-456'\") #Retrieves the account balance of the loan applicant by modifying the code for fetching all the bank clients\n",
        "for row in cursor:\n",
        "    print(row)\n",
        "\n",
        "conn.close()"
      ],
      "metadata": {
        "colab": {
          "base_uri": "https://localhost:8080/",
          "height": 0
        },
        "id": "ty8_4AYqVmcO",
        "outputId": "5a9c3a39-18b6-479c-b2b1-dd03fbce2b31"
      },
      "execution_count": 83,
      "outputs": [
        {
          "output_type": "stream",
          "name": "stdout",
          "text": [
            "('123-456', 'Ivan Villena', 6000.0)\n"
          ]
        }
      ]
    },
    {
      "cell_type": "code",
      "source": [],
      "metadata": {
        "id": "QoAfXPlYYKDb"
      },
      "execution_count": null,
      "outputs": []
    }
  ]
}