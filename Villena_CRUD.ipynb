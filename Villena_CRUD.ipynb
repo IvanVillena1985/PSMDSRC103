{
  "nbformat": 4,
  "nbformat_minor": 0,
  "metadata": {
    "colab": {
      "provenance": []
    },
    "kernelspec": {
      "name": "python3",
      "display_name": "Python 3"
    },
    "language_info": {
      "name": "python"
    }
  },
  "cells": [
    {
      "cell_type": "code",
      "execution_count": 134,
      "metadata": {
        "id": "fNLXg-71NFi-"
      },
      "outputs": [],
      "source": [
        "records ={\n",
        "    1:['Ivan', 39, 'PSMDS'],\n",
        "    2:['Cassidy', 29, 'BSIT'],\n",
        "    3:['John', 28, 'BSCS'],\n",
        "    4:['Chris', 30, 'BSME']\n",
        "    }"
      ]
    },
    {
      "cell_type": "code",
      "source": [
        "records.keys()"
      ],
      "metadata": {
        "colab": {
          "base_uri": "https://localhost:8080/"
        },
        "id": "14SxznbyNcw6",
        "outputId": "a8d32763-0d7c-4d19-b9cc-af8e07557b2b"
      },
      "execution_count": 135,
      "outputs": [
        {
          "output_type": "execute_result",
          "data": {
            "text/plain": [
              "dict_keys([1, 2, 3, 4])"
            ]
          },
          "metadata": {},
          "execution_count": 135
        }
      ]
    },
    {
      "cell_type": "code",
      "source": [
        "for i in records:\n",
        "  print('ID No.' + str(i) + ' :' + 'Details' + str(records[i]))"
      ],
      "metadata": {
        "colab": {
          "base_uri": "https://localhost:8080/"
        },
        "id": "0jBODp9tNfpT",
        "outputId": "65220fd7-e8e7-4301-b4f7-3e45957b314b"
      },
      "execution_count": 136,
      "outputs": [
        {
          "output_type": "stream",
          "name": "stdout",
          "text": [
            "ID No.1 :Details['Ivan', 39, 'PSMDS']\n",
            "ID No.2 :Details['Cassidy', 29, 'BSIT']\n",
            "ID No.3 :Details['John', 28, 'BSCS']\n",
            "ID No.4 :Details['Chris', 30, 'BSME']\n"
          ]
        }
      ]
    },
    {
      "cell_type": "code",
      "source": [
        "list(records.keys())[-1]"
      ],
      "metadata": {
        "colab": {
          "base_uri": "https://localhost:8080/"
        },
        "id": "BTWgI34WNjCj",
        "outputId": "71b3ce10-4acd-40ff-83b4-42e2dfa5a336"
      },
      "execution_count": 137,
      "outputs": [
        {
          "output_type": "execute_result",
          "data": {
            "text/plain": [
              "4"
            ]
          },
          "metadata": {},
          "execution_count": 137
        }
      ]
    },
    {
      "cell_type": "code",
      "source": [
        "def add_record(records, details):\n",
        "  for record in details:\n",
        "    id_no = len(records) + 1\n",
        "    name, age, course = record\n",
        "    duplicate = any(existing == [name, age, course] for existing in records.values()) #Edge case: duplicate records\n",
        "\n",
        "    if duplicate:\n",
        "      print(f'Record {name} {age} {course} already exists')\n",
        "    else:\n",
        "      records[id_no] = [name, age, course]\n",
        "      print(f'Name {name} {age} {course} added')\n",
        "\n"
      ],
      "metadata": {
        "id": "fmSkkzSvN6Ad"
      },
      "execution_count": 138,
      "outputs": []
    },
    {
      "cell_type": "code",
      "source": [
        "#Test Function\n",
        "details = [['Ivan', 39, 'PSMDS']]\n"
      ],
      "metadata": {
        "id": "OtCNuNyFN7Tu"
      },
      "execution_count": 139,
      "outputs": []
    },
    {
      "cell_type": "code",
      "source": [
        "add_record(records, details)"
      ],
      "metadata": {
        "colab": {
          "base_uri": "https://localhost:8080/"
        },
        "id": "wfLGgbiZ68js",
        "outputId": "462f6add-809c-4254-c1ac-172f7e6f57cb"
      },
      "execution_count": 140,
      "outputs": [
        {
          "output_type": "stream",
          "name": "stdout",
          "text": [
            "Record Ivan 39 PSMDS already exists\n"
          ]
        }
      ]
    },
    {
      "cell_type": "code",
      "source": [
        "records"
      ],
      "metadata": {
        "colab": {
          "base_uri": "https://localhost:8080/"
        },
        "id": "crqdaRMHOASk",
        "outputId": "40b60b05-3e17-4ee8-e1d7-e428bc6cbafa"
      },
      "execution_count": 141,
      "outputs": [
        {
          "output_type": "execute_result",
          "data": {
            "text/plain": [
              "{1: ['Ivan', 39, 'PSMDS'],\n",
              " 2: ['Cassidy', 29, 'BSIT'],\n",
              " 3: ['John', 28, 'BSCS'],\n",
              " 4: ['Chris', 30, 'BSME']}"
            ]
          },
          "metadata": {},
          "execution_count": 141
        }
      ]
    },
    {
      "cell_type": "code",
      "source": [
        "findID = 1\n",
        "if findID not in records:\n",
        "  print('ID Not Found!')\n",
        "else:\n",
        "  print(records[findID])"
      ],
      "metadata": {
        "colab": {
          "base_uri": "https://localhost:8080/"
        },
        "id": "_VDAQmuGODMJ",
        "outputId": "56070da4-2e2c-4a05-ef11-38f74f5c90e4"
      },
      "execution_count": 142,
      "outputs": [
        {
          "output_type": "stream",
          "name": "stdout",
          "text": [
            "['Ivan', 39, 'PSMDS']\n"
          ]
        }
      ]
    },
    {
      "cell_type": "code",
      "source": [
        "def readRecord(records, findID):\n",
        "  if findID not in records:\n",
        "    print('ID Not Found!')  #Print ID Not Found\n",
        "    return\n",
        "  else:\n",
        "    print(records[findID]) #Print Records"
      ],
      "metadata": {
        "id": "Z_Kqhh6QOIQr"
      },
      "execution_count": 143,
      "outputs": []
    },
    {
      "cell_type": "code",
      "source": [
        "print(readRecord(records, 4))"
      ],
      "metadata": {
        "colab": {
          "base_uri": "https://localhost:8080/"
        },
        "id": "YPLnnFQjOM8y",
        "outputId": "e14ebd5f-fc71-489f-9d9e-623e0e0b4b92"
      },
      "execution_count": 144,
      "outputs": [
        {
          "output_type": "stream",
          "name": "stdout",
          "text": [
            "['Chris', 30, 'BSME']\n",
            "None\n"
          ]
        }
      ]
    },
    {
      "cell_type": "code",
      "source": [
        "findID = 4\n",
        "index = 2\n",
        "records[findID][index]"
      ],
      "metadata": {
        "colab": {
          "base_uri": "https://localhost:8080/",
          "height": 35
        },
        "id": "o9_cmgL5Pkxa",
        "outputId": "78f573cc-5a06-4e04-e1d1-f027f7d4e903"
      },
      "execution_count": 145,
      "outputs": [
        {
          "output_type": "execute_result",
          "data": {
            "text/plain": [
              "'BSME'"
            ],
            "application/vnd.google.colaboratory.intrinsic+json": {
              "type": "string"
            }
          },
          "metadata": {},
          "execution_count": 145
        }
      ]
    },
    {
      "cell_type": "code",
      "source": [
        "def updateRecord(records, findID, index, newValue):\n",
        "  if findID not in records:\n",
        "    return 'ID Not Found'\n",
        "  else:\n",
        "    records[findID][index] = newValue\n",
        "    print(f'Record with Find ID {findID} has been updated')\n",
        "    return records[findID]"
      ],
      "metadata": {
        "id": "hBBYEzqFPq4A"
      },
      "execution_count": 146,
      "outputs": []
    },
    {
      "cell_type": "code",
      "source": [
        "records"
      ],
      "metadata": {
        "colab": {
          "base_uri": "https://localhost:8080/"
        },
        "id": "7XQVSbAcPuM5",
        "outputId": "eef27072-afe1-4205-b2ba-265896b9c5f8"
      },
      "execution_count": 147,
      "outputs": [
        {
          "output_type": "execute_result",
          "data": {
            "text/plain": [
              "{1: ['Ivan', 39, 'PSMDS'],\n",
              " 2: ['Cassidy', 29, 'BSIT'],\n",
              " 3: ['John', 28, 'BSCS'],\n",
              " 4: ['Chris', 30, 'BSME']}"
            ]
          },
          "metadata": {},
          "execution_count": 147
        }
      ]
    },
    {
      "cell_type": "code",
      "source": [
        "updateRecord(records, 1, 1, 40)\n",
        "print(records[1])"
      ],
      "metadata": {
        "colab": {
          "base_uri": "https://localhost:8080/"
        },
        "id": "6w9okn-uPuvU",
        "outputId": "630a3fde-ff23-4ca0-9575-7fa5e293cc7e"
      },
      "execution_count": 148,
      "outputs": [
        {
          "output_type": "stream",
          "name": "stdout",
          "text": [
            "Record with Find ID 1 has been updated\n",
            "['Ivan', 40, 'PSMDS']\n"
          ]
        }
      ]
    },
    {
      "cell_type": "code",
      "source": [
        "def deleteRecord(records, delete_ID):\n",
        "  delete_ID = 1\n",
        "  del records[delete_ID]\n",
        "  records"
      ],
      "metadata": {
        "id": "BLrZEQouQAF1"
      },
      "execution_count": 149,
      "outputs": []
    },
    {
      "cell_type": "code",
      "source": [
        "deleteRecord(records, 1)\n",
        "records"
      ],
      "metadata": {
        "colab": {
          "base_uri": "https://localhost:8080/"
        },
        "id": "NLaeUUJiP50C",
        "outputId": "69164c1c-4281-4199-bb7d-5b81f001b467"
      },
      "execution_count": 150,
      "outputs": [
        {
          "output_type": "execute_result",
          "data": {
            "text/plain": [
              "{2: ['Cassidy', 29, 'BSIT'], 3: ['John', 28, 'BSCS'], 4: ['Chris', 30, 'BSME']}"
            ]
          },
          "metadata": {},
          "execution_count": 150
        }
      ]
    }
  ]
}